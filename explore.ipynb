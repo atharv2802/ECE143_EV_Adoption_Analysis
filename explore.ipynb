{
 "cells": [
  {
   "cell_type": "code",
   "execution_count": 2,
   "metadata": {},
   "outputs": [],
   "source": [
    "import pandas as pd"
   ]
  },
  {
   "cell_type": "code",
   "execution_count": 3,
   "metadata": {},
   "outputs": [
    {
     "data": {
      "text/html": [
       "<div>\n",
       "<style scoped>\n",
       "    .dataframe tbody tr th:only-of-type {\n",
       "        vertical-align: middle;\n",
       "    }\n",
       "\n",
       "    .dataframe tbody tr th {\n",
       "        vertical-align: top;\n",
       "    }\n",
       "\n",
       "    .dataframe thead th {\n",
       "        text-align: right;\n",
       "    }\n",
       "</style>\n",
       "<table border=\"1\" class=\"dataframe\">\n",
       "  <thead>\n",
       "    <tr style=\"text-align: right;\">\n",
       "      <th></th>\n",
       "      <th>ZIP</th>\n",
       "      <th>Diesel</th>\n",
       "      <th>Electric</th>\n",
       "      <th>Flex_Fuel</th>\n",
       "      <th>Gasoline</th>\n",
       "      <th>Gasoline_Hybrid</th>\n",
       "      <th>Hydrogen</th>\n",
       "      <th>Natural_Gas</th>\n",
       "      <th>PHEV</th>\n",
       "      <th>Propane</th>\n",
       "      <th>...</th>\n",
       "      <th>Median_Household_Income</th>\n",
       "      <th>Latino_perc</th>\n",
       "      <th>White_perc</th>\n",
       "      <th>Asian_perc</th>\n",
       "      <th>Black_perc</th>\n",
       "      <th>BachOrHigher_perc</th>\n",
       "      <th>Total_Population</th>\n",
       "      <th>Zillow_Home_Value_Index</th>\n",
       "      <th>City</th>\n",
       "      <th>County</th>\n",
       "    </tr>\n",
       "  </thead>\n",
       "  <tbody>\n",
       "    <tr>\n",
       "      <th>0</th>\n",
       "      <td>94027</td>\n",
       "      <td>89</td>\n",
       "      <td>723</td>\n",
       "      <td>137</td>\n",
       "      <td>4764</td>\n",
       "      <td>380</td>\n",
       "      <td>1</td>\n",
       "      <td>0</td>\n",
       "      <td>167</td>\n",
       "      <td>0</td>\n",
       "      <td>...</td>\n",
       "      <td>250001.0</td>\n",
       "      <td>8.8</td>\n",
       "      <td>68.0</td>\n",
       "      <td>18.5</td>\n",
       "      <td>1.2</td>\n",
       "      <td>84.7</td>\n",
       "      <td>7213</td>\n",
       "      <td>7397088.91</td>\n",
       "      <td>Atherton</td>\n",
       "      <td>San Mateo</td>\n",
       "    </tr>\n",
       "    <tr>\n",
       "      <th>1</th>\n",
       "      <td>94022</td>\n",
       "      <td>228</td>\n",
       "      <td>1880</td>\n",
       "      <td>255</td>\n",
       "      <td>12682</td>\n",
       "      <td>1416</td>\n",
       "      <td>8</td>\n",
       "      <td>1</td>\n",
       "      <td>502</td>\n",
       "      <td>0</td>\n",
       "      <td>...</td>\n",
       "      <td>250001.0</td>\n",
       "      <td>5.2</td>\n",
       "      <td>53.7</td>\n",
       "      <td>36.2</td>\n",
       "      <td>0.2</td>\n",
       "      <td>87.6</td>\n",
       "      <td>20069</td>\n",
       "      <td>4383734.10</td>\n",
       "      <td>Los Altos</td>\n",
       "      <td>Santa Clara</td>\n",
       "    </tr>\n",
       "    <tr>\n",
       "      <th>2</th>\n",
       "      <td>94301</td>\n",
       "      <td>141</td>\n",
       "      <td>1229</td>\n",
       "      <td>163</td>\n",
       "      <td>8513</td>\n",
       "      <td>1141</td>\n",
       "      <td>5</td>\n",
       "      <td>5</td>\n",
       "      <td>352</td>\n",
       "      <td>0</td>\n",
       "      <td>...</td>\n",
       "      <td>184932.0</td>\n",
       "      <td>6.2</td>\n",
       "      <td>59.6</td>\n",
       "      <td>24.4</td>\n",
       "      <td>2.5</td>\n",
       "      <td>82.0</td>\n",
       "      <td>17243</td>\n",
       "      <td>3763337.05</td>\n",
       "      <td>Palo Alto</td>\n",
       "      <td>Santa Clara</td>\n",
       "    </tr>\n",
       "    <tr>\n",
       "      <th>3</th>\n",
       "      <td>94028</td>\n",
       "      <td>128</td>\n",
       "      <td>645</td>\n",
       "      <td>110</td>\n",
       "      <td>4451</td>\n",
       "      <td>609</td>\n",
       "      <td>1</td>\n",
       "      <td>1</td>\n",
       "      <td>188</td>\n",
       "      <td>0</td>\n",
       "      <td>...</td>\n",
       "      <td>250001.0</td>\n",
       "      <td>9.0</td>\n",
       "      <td>79.5</td>\n",
       "      <td>5.9</td>\n",
       "      <td>0.0</td>\n",
       "      <td>85.2</td>\n",
       "      <td>6582</td>\n",
       "      <td>3708911.26</td>\n",
       "      <td>Portola Valley</td>\n",
       "      <td>San Mateo</td>\n",
       "    </tr>\n",
       "    <tr>\n",
       "      <th>4</th>\n",
       "      <td>94024</td>\n",
       "      <td>253</td>\n",
       "      <td>1981</td>\n",
       "      <td>246</td>\n",
       "      <td>14374</td>\n",
       "      <td>1649</td>\n",
       "      <td>12</td>\n",
       "      <td>3</td>\n",
       "      <td>571</td>\n",
       "      <td>0</td>\n",
       "      <td>...</td>\n",
       "      <td>250001.0</td>\n",
       "      <td>6.3</td>\n",
       "      <td>55.6</td>\n",
       "      <td>31.7</td>\n",
       "      <td>0.9</td>\n",
       "      <td>85.1</td>\n",
       "      <td>24203</td>\n",
       "      <td>3879869.05</td>\n",
       "      <td>Los Altos</td>\n",
       "      <td>Santa Clara</td>\n",
       "    </tr>\n",
       "  </tbody>\n",
       "</table>\n",
       "<p>5 rows × 23 columns</p>\n",
       "</div>"
      ],
      "text/plain": [
       "     ZIP  Diesel  Electric  Flex_Fuel  Gasoline  Gasoline_Hybrid  Hydrogen  \\\n",
       "0  94027      89       723        137      4764              380         1   \n",
       "1  94022     228      1880        255     12682             1416         8   \n",
       "2  94301     141      1229        163      8513             1141         5   \n",
       "3  94028     128       645        110      4451              609         1   \n",
       "4  94024     253      1981        246     14374             1649        12   \n",
       "\n",
       "   Natural_Gas  PHEV  Propane  ...  Median_Household_Income  Latino_perc  \\\n",
       "0            0   167        0  ...                 250001.0          8.8   \n",
       "1            1   502        0  ...                 250001.0          5.2   \n",
       "2            5   352        0  ...                 184932.0          6.2   \n",
       "3            1   188        0  ...                 250001.0          9.0   \n",
       "4            3   571        0  ...                 250001.0          6.3   \n",
       "\n",
       "   White_perc  Asian_perc  Black_perc  BachOrHigher_perc  Total_Population  \\\n",
       "0        68.0        18.5         1.2               84.7              7213   \n",
       "1        53.7        36.2         0.2               87.6             20069   \n",
       "2        59.6        24.4         2.5               82.0             17243   \n",
       "3        79.5         5.9         0.0               85.2              6582   \n",
       "4        55.6        31.7         0.9               85.1             24203   \n",
       "\n",
       "   Zillow_Home_Value_Index            City       County  \n",
       "0               7397088.91        Atherton    San Mateo  \n",
       "1               4383734.10       Los Altos  Santa Clara  \n",
       "2               3763337.05       Palo Alto  Santa Clara  \n",
       "3               3708911.26  Portola Valley    San Mateo  \n",
       "4               3879869.05       Los Altos  Santa Clara  \n",
       "\n",
       "[5 rows x 23 columns]"
      ]
     },
     "execution_count": 3,
     "metadata": {},
     "output_type": "execute_result"
    }
   ],
   "source": [
    "df_1 = pd.read_csv('data/final_ev_analysis.csv', index_col='Unnamed: 0')\n",
    "df_1.head()"
   ]
  },
  {
   "cell_type": "code",
   "execution_count": 4,
   "metadata": {},
   "outputs": [
    {
     "data": {
      "text/plain": [
       "Index(['ZIP', 'Diesel', 'Electric', 'Flex_Fuel', 'Gasoline', 'Gasoline_Hybrid',\n",
       "       'Hydrogen', 'Natural_Gas', 'PHEV', 'Propane', 'Total_Cars', 'Total_EV',\n",
       "       'EV_perc', 'Median_Household_Income', 'Latino_perc', 'White_perc',\n",
       "       'Asian_perc', 'Black_perc', 'BachOrHigher_perc', 'Total_Population',\n",
       "       'Zillow_Home_Value_Index', 'City', 'County'],\n",
       "      dtype='object')"
      ]
     },
     "execution_count": 4,
     "metadata": {},
     "output_type": "execute_result"
    }
   ],
   "source": [
    "df_1.columns"
   ]
  },
  {
   "cell_type": "code",
   "execution_count": 4,
   "metadata": {},
   "outputs": [],
   "source": [
    "from scripts.geo import plot_geospatial_data\n",
    "\n",
    "file_path = 'data/california_zip_codes_geo_updated/ev_final_analysis_geo.shp'\n",
    "zip_codes = df_1['ZIP'].to_list()\n",
    "ev_adoption = df_1['EV_perc'].to_list()\n",
    "data_to_plot = {str(k):v for k, v in zip(zip_codes, ev_adoption)}\n",
    "join_col_name = 'ZIP'\n",
    "value_name = 'EV Percentage'\n",
    "output_file_name = 'results/california_cars.html'\n",
    "plot_geospatial_data(file_path, data_to_plot, join_col_name, value_name, output_file_name)"
   ]
  },
  {
   "cell_type": "code",
   "execution_count": 5,
   "metadata": {},
   "outputs": [],
   "source": [
    "from scripts.geo import plot_geospatial_data\n",
    "\n",
    "file_path = 'data/california_zip_codes_geo_updated/ev_final_analysis_geo.shp'\n",
    "zip_codes = df_1['ZIP'].to_list()\n",
    "ev_adoption = df_1['Median_Household_Income'].to_list()\n",
    "data_to_plot = {str(k):v for k, v in zip(zip_codes, ev_adoption)}\n",
    "join_col_name = 'ZIP'\n",
    "value_name = 'Median Houshold Income'\n",
    "output_file_name = 'results/california_income.html'\n",
    "plot_geospatial_data(file_path, data_to_plot, join_col_name, value_name, output_file_name)"
   ]
  },
  {
   "cell_type": "code",
   "execution_count": null,
   "metadata": {},
   "outputs": [],
   "source": [
    "import geopandas as gpd\n",
    "california_geojson = gpd.read_file(\"/Users/yashowardhanshinde/Desktop/ECE 143/ECE143_EV_Adoption_Analysis/data/california_zip_codes_geo/California_Zip_Codes.shp\")\n",
    "california_geojson.head()"
   ]
  },
  {
   "cell_type": "code",
   "execution_count": 16,
   "metadata": {},
   "outputs": [
    {
     "data": {
      "text/plain": [
       "[]"
      ]
     },
     "execution_count": 16,
     "metadata": {},
     "output_type": "execute_result"
    }
   ],
   "source": [
    "\n",
    "# new_df.to_csv('data/final_ev_analysis.csv')"
   ]
  },
  {
   "cell_type": "code",
   "execution_count": null,
   "metadata": {},
   "outputs": [],
   "source": [
    "df_2.columns"
   ]
  },
  {
   "cell_type": "code",
   "execution_count": null,
   "metadata": {},
   "outputs": [],
   "source": [
    "df_2.drop(columns=['OBJECTID', 'PO_NAME', 'STATE', 'POPULATION', 'POP_SQMI',\n",
    "       'SQMI', 'SHAPE_Leng', 'SHAPE_Area'], inplace=True)"
   ]
  },
  {
   "cell_type": "code",
   "execution_count": null,
   "metadata": {},
   "outputs": [],
   "source": [
    "df_2.head()"
   ]
  },
  {
   "cell_type": "code",
   "execution_count": null,
   "metadata": {},
   "outputs": [],
   "source": [
    "df_2.rename(columns={\"ZIP_CODE\": \"ZIP\"}, inplace=True)\n",
    "df_2['ZIP'] = df_2['ZIP'].astype(int)\n",
    "new_df = df_1.join(df_2.set_index('ZIP'), on='ZIP')\n",
    "new_df.head()"
   ]
  },
  {
   "cell_type": "code",
   "execution_count": null,
   "metadata": {},
   "outputs": [],
   "source": [
    "len(new_df)"
   ]
  },
  {
   "cell_type": "code",
   "execution_count": null,
   "metadata": {},
   "outputs": [],
   "source": [
    "new_df.to_csv(\"data/ev_final_analysis_geo.csv\")"
   ]
  },
  {
   "cell_type": "code",
   "execution_count": null,
   "metadata": {},
   "outputs": [],
   "source": [
    "new_df = gpd.GeoDataFrame(new_df)\n",
    "new_df.to_file(\"data/ev_final_analysis_geo.shp\")"
   ]
  },
  {
   "cell_type": "code",
   "execution_count": 26,
   "metadata": {},
   "outputs": [
    {
     "name": "stdout",
     "output_type": "stream",
     "text": [
      "<class 'geopandas.geodataframe.GeoDataFrame'>\n",
      "Index: 1398 entries, 0 to 1426\n",
      "Data columns (total 24 columns):\n",
      " #   Column      Non-Null Count  Dtype   \n",
      "---  ------      --------------  -----   \n",
      " 0   ZIP         1398 non-null   int64   \n",
      " 1   Diesel      1398 non-null   int64   \n",
      " 2   Electric    1398 non-null   int64   \n",
      " 3   Flex_Fuel   1398 non-null   int64   \n",
      " 4   Gasoline    1398 non-null   int64   \n",
      " 5   Gasoline_H  1398 non-null   int64   \n",
      " 6   Hydrogen    1398 non-null   int64   \n",
      " 7   Natural_Ga  1398 non-null   int64   \n",
      " 8   PHEV        1398 non-null   int64   \n",
      " 9   Propane     1398 non-null   int64   \n",
      " 10  Total_Cars  1398 non-null   int64   \n",
      " 11  Total_EV    1398 non-null   int64   \n",
      " 12  EV_perc     1398 non-null   float64 \n",
      " 13  Median_Hou  1398 non-null   float64 \n",
      " 14  Latino_per  1398 non-null   float64 \n",
      " 15  White_perc  1398 non-null   float64 \n",
      " 16  Asian_perc  1398 non-null   float64 \n",
      " 17  Black_perc  1398 non-null   float64 \n",
      " 18  BachOrHigh  1398 non-null   float64 \n",
      " 19  Total_Popu  1398 non-null   int64   \n",
      " 20  Zillow_Hom  1398 non-null   float64 \n",
      " 21  City        1398 non-null   object  \n",
      " 22  County      1398 non-null   object  \n",
      " 23  geometry    1398 non-null   geometry\n",
      "dtypes: float64(8), geometry(1), int64(13), object(2)\n",
      "memory usage: 273.0+ KB\n"
     ]
    }
   ],
   "source": [
    "import geopandas as gpd\n",
    "x = gpd.read_file('data/california_zip_codes_geo_updated/ev_final_analysis_geo.shp')\n",
    "x.dropna(inplace=True)\n",
    "x.info()"
   ]
  },
  {
   "cell_type": "code",
   "execution_count": 15,
   "metadata": {},
   "outputs": [],
   "source": [
    "d = []\n",
    "for idx, row in x.iterrows():\n",
    "    try:\n",
    "        y = row['geometry'].centroid\n",
    "    except:\n",
    "        d.append(idx)"
   ]
  },
  {
   "cell_type": "code",
   "execution_count": 18,
   "metadata": {},
   "outputs": [
    {
     "data": {
      "text/plain": [
       "25"
      ]
     },
     "execution_count": 18,
     "metadata": {},
     "output_type": "execute_result"
    }
   ],
   "source": [
    "len(d)"
   ]
  },
  {
   "cell_type": "code",
   "execution_count": 17,
   "metadata": {},
   "outputs": [
    {
     "data": {
      "text/plain": [
       "[]"
      ]
     },
     "execution_count": 17,
     "metadata": {},
     "output_type": "execute_result"
    }
   ],
   "source": [
    "df_2 = gpd.read_file('/Users/yashowardhanshinde/Desktop/ECE 143/ECE143_EV_Adoption_Analysis/data/california_zip_codes_geo/California_Zip_Codes.shp')\n",
    "m =  df_2['ZIP_CODE'].to_list()\n",
    "[x for x in m if x in d]"
   ]
  },
  {
   "cell_type": "code",
   "execution_count": null,
   "metadata": {},
   "outputs": [],
   "source": []
  }
 ],
 "metadata": {
  "kernelspec": {
   "display_name": "Python 3",
   "language": "python",
   "name": "python3"
  },
  "language_info": {
   "codemirror_mode": {
    "name": "ipython",
    "version": 3
   },
   "file_extension": ".py",
   "mimetype": "text/x-python",
   "name": "python",
   "nbconvert_exporter": "python",
   "pygments_lexer": "ipython3",
   "version": "3.9.18"
  }
 },
 "nbformat": 4,
 "nbformat_minor": 2
}
