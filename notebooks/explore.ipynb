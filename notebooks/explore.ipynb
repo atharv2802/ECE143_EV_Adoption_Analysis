{
 "cells": [
  {
   "cell_type": "code",
   "execution_count": 1,
   "metadata": {},
   "outputs": [],
   "source": [
    "import pandas as pd\n",
    "import geopandas as gpd"
   ]
  },
  {
   "cell_type": "code",
   "execution_count": 2,
   "metadata": {},
   "outputs": [
    {
     "data": {
      "text/html": [
       "<div>\n",
       "<style scoped>\n",
       "    .dataframe tbody tr th:only-of-type {\n",
       "        vertical-align: middle;\n",
       "    }\n",
       "\n",
       "    .dataframe tbody tr th {\n",
       "        vertical-align: top;\n",
       "    }\n",
       "\n",
       "    .dataframe thead th {\n",
       "        text-align: right;\n",
       "    }\n",
       "</style>\n",
       "<table border=\"1\" class=\"dataframe\">\n",
       "  <thead>\n",
       "    <tr style=\"text-align: right;\">\n",
       "      <th></th>\n",
       "      <th>ZIP</th>\n",
       "      <th>Diesel</th>\n",
       "      <th>Electric</th>\n",
       "      <th>Flex_Fuel</th>\n",
       "      <th>Gasoline</th>\n",
       "      <th>Gasoline_Hybrid</th>\n",
       "      <th>Hydrogen</th>\n",
       "      <th>Natural_Gas</th>\n",
       "      <th>PHEV</th>\n",
       "      <th>Propane</th>\n",
       "      <th>...</th>\n",
       "      <th>Median_Household_Income</th>\n",
       "      <th>Latino_perc</th>\n",
       "      <th>White_perc</th>\n",
       "      <th>Asian_perc</th>\n",
       "      <th>Black_perc</th>\n",
       "      <th>BachOrHigher_perc</th>\n",
       "      <th>Total_Population</th>\n",
       "      <th>Zillow_Home_Value_Index</th>\n",
       "      <th>City</th>\n",
       "      <th>County</th>\n",
       "    </tr>\n",
       "  </thead>\n",
       "  <tbody>\n",
       "    <tr>\n",
       "      <th>0</th>\n",
       "      <td>94027</td>\n",
       "      <td>89</td>\n",
       "      <td>723</td>\n",
       "      <td>137</td>\n",
       "      <td>4764</td>\n",
       "      <td>380</td>\n",
       "      <td>1</td>\n",
       "      <td>0</td>\n",
       "      <td>167</td>\n",
       "      <td>0</td>\n",
       "      <td>...</td>\n",
       "      <td>250001.0</td>\n",
       "      <td>8.8</td>\n",
       "      <td>68.0</td>\n",
       "      <td>18.5</td>\n",
       "      <td>1.2</td>\n",
       "      <td>84.7</td>\n",
       "      <td>7213</td>\n",
       "      <td>7397088.91</td>\n",
       "      <td>Atherton</td>\n",
       "      <td>San Mateo</td>\n",
       "    </tr>\n",
       "    <tr>\n",
       "      <th>1</th>\n",
       "      <td>94022</td>\n",
       "      <td>228</td>\n",
       "      <td>1880</td>\n",
       "      <td>255</td>\n",
       "      <td>12682</td>\n",
       "      <td>1416</td>\n",
       "      <td>8</td>\n",
       "      <td>1</td>\n",
       "      <td>502</td>\n",
       "      <td>0</td>\n",
       "      <td>...</td>\n",
       "      <td>250001.0</td>\n",
       "      <td>5.2</td>\n",
       "      <td>53.7</td>\n",
       "      <td>36.2</td>\n",
       "      <td>0.2</td>\n",
       "      <td>87.6</td>\n",
       "      <td>20069</td>\n",
       "      <td>4383734.10</td>\n",
       "      <td>Los Altos</td>\n",
       "      <td>Santa Clara</td>\n",
       "    </tr>\n",
       "    <tr>\n",
       "      <th>2</th>\n",
       "      <td>94301</td>\n",
       "      <td>141</td>\n",
       "      <td>1229</td>\n",
       "      <td>163</td>\n",
       "      <td>8513</td>\n",
       "      <td>1141</td>\n",
       "      <td>5</td>\n",
       "      <td>5</td>\n",
       "      <td>352</td>\n",
       "      <td>0</td>\n",
       "      <td>...</td>\n",
       "      <td>184932.0</td>\n",
       "      <td>6.2</td>\n",
       "      <td>59.6</td>\n",
       "      <td>24.4</td>\n",
       "      <td>2.5</td>\n",
       "      <td>82.0</td>\n",
       "      <td>17243</td>\n",
       "      <td>3763337.05</td>\n",
       "      <td>Palo Alto</td>\n",
       "      <td>Santa Clara</td>\n",
       "    </tr>\n",
       "    <tr>\n",
       "      <th>3</th>\n",
       "      <td>94028</td>\n",
       "      <td>128</td>\n",
       "      <td>645</td>\n",
       "      <td>110</td>\n",
       "      <td>4451</td>\n",
       "      <td>609</td>\n",
       "      <td>1</td>\n",
       "      <td>1</td>\n",
       "      <td>188</td>\n",
       "      <td>0</td>\n",
       "      <td>...</td>\n",
       "      <td>250001.0</td>\n",
       "      <td>9.0</td>\n",
       "      <td>79.5</td>\n",
       "      <td>5.9</td>\n",
       "      <td>0.0</td>\n",
       "      <td>85.2</td>\n",
       "      <td>6582</td>\n",
       "      <td>3708911.26</td>\n",
       "      <td>Portola Valley</td>\n",
       "      <td>San Mateo</td>\n",
       "    </tr>\n",
       "    <tr>\n",
       "      <th>4</th>\n",
       "      <td>94024</td>\n",
       "      <td>253</td>\n",
       "      <td>1981</td>\n",
       "      <td>246</td>\n",
       "      <td>14374</td>\n",
       "      <td>1649</td>\n",
       "      <td>12</td>\n",
       "      <td>3</td>\n",
       "      <td>571</td>\n",
       "      <td>0</td>\n",
       "      <td>...</td>\n",
       "      <td>250001.0</td>\n",
       "      <td>6.3</td>\n",
       "      <td>55.6</td>\n",
       "      <td>31.7</td>\n",
       "      <td>0.9</td>\n",
       "      <td>85.1</td>\n",
       "      <td>24203</td>\n",
       "      <td>3879869.05</td>\n",
       "      <td>Los Altos</td>\n",
       "      <td>Santa Clara</td>\n",
       "    </tr>\n",
       "  </tbody>\n",
       "</table>\n",
       "<p>5 rows × 23 columns</p>\n",
       "</div>"
      ],
      "text/plain": [
       "     ZIP  Diesel  Electric  Flex_Fuel  Gasoline  Gasoline_Hybrid  Hydrogen  \\\n",
       "0  94027      89       723        137      4764              380         1   \n",
       "1  94022     228      1880        255     12682             1416         8   \n",
       "2  94301     141      1229        163      8513             1141         5   \n",
       "3  94028     128       645        110      4451              609         1   \n",
       "4  94024     253      1981        246     14374             1649        12   \n",
       "\n",
       "   Natural_Gas  PHEV  Propane  ...  Median_Household_Income  Latino_perc  \\\n",
       "0            0   167        0  ...                 250001.0          8.8   \n",
       "1            1   502        0  ...                 250001.0          5.2   \n",
       "2            5   352        0  ...                 184932.0          6.2   \n",
       "3            1   188        0  ...                 250001.0          9.0   \n",
       "4            3   571        0  ...                 250001.0          6.3   \n",
       "\n",
       "   White_perc  Asian_perc  Black_perc  BachOrHigher_perc  Total_Population  \\\n",
       "0        68.0        18.5         1.2               84.7              7213   \n",
       "1        53.7        36.2         0.2               87.6             20069   \n",
       "2        59.6        24.4         2.5               82.0             17243   \n",
       "3        79.5         5.9         0.0               85.2              6582   \n",
       "4        55.6        31.7         0.9               85.1             24203   \n",
       "\n",
       "   Zillow_Home_Value_Index            City       County  \n",
       "0               7397088.91        Atherton    San Mateo  \n",
       "1               4383734.10       Los Altos  Santa Clara  \n",
       "2               3763337.05       Palo Alto  Santa Clara  \n",
       "3               3708911.26  Portola Valley    San Mateo  \n",
       "4               3879869.05       Los Altos  Santa Clara  \n",
       "\n",
       "[5 rows x 23 columns]"
      ]
     },
     "execution_count": 2,
     "metadata": {},
     "output_type": "execute_result"
    }
   ],
   "source": [
    "df_1 = pd.read_csv('data/final_ev_analysis.csv', index_col='Unnamed: 0')\n",
    "df_1.head()"
   ]
  },
  {
   "cell_type": "code",
   "execution_count": 3,
   "metadata": {},
   "outputs": [
    {
     "data": {
      "text/plain": [
       "Index(['ZIP', 'Diesel', 'Electric', 'Flex_Fuel', 'Gasoline', 'Gasoline_Hybrid',\n",
       "       'Hydrogen', 'Natural_Gas', 'PHEV', 'Propane', 'Total_Cars', 'Total_EV',\n",
       "       'EV_perc', 'Median_Household_Income', 'Latino_perc', 'White_perc',\n",
       "       'Asian_perc', 'Black_perc', 'BachOrHigher_perc', 'Total_Population',\n",
       "       'Zillow_Home_Value_Index', 'City', 'County'],\n",
       "      dtype='object')"
      ]
     },
     "execution_count": 3,
     "metadata": {},
     "output_type": "execute_result"
    }
   ],
   "source": [
    "df_1.columns"
   ]
  },
  {
   "cell_type": "code",
   "execution_count": 4,
   "metadata": {},
   "outputs": [
    {
     "data": {
      "text/html": [
       "<div>\n",
       "<style scoped>\n",
       "    .dataframe tbody tr th:only-of-type {\n",
       "        vertical-align: middle;\n",
       "    }\n",
       "\n",
       "    .dataframe tbody tr th {\n",
       "        vertical-align: top;\n",
       "    }\n",
       "\n",
       "    .dataframe thead th {\n",
       "        text-align: right;\n",
       "    }\n",
       "</style>\n",
       "<table border=\"1\" class=\"dataframe\">\n",
       "  <thead>\n",
       "    <tr style=\"text-align: right;\">\n",
       "      <th></th>\n",
       "      <th>OBJECTID</th>\n",
       "      <th>ZIP_CODE</th>\n",
       "      <th>PO_NAME</th>\n",
       "      <th>STATE</th>\n",
       "      <th>POPULATION</th>\n",
       "      <th>POP_SQMI</th>\n",
       "      <th>SQMI</th>\n",
       "      <th>SHAPE_Leng</th>\n",
       "      <th>SHAPE_Area</th>\n",
       "      <th>geometry</th>\n",
       "    </tr>\n",
       "  </thead>\n",
       "  <tbody>\n",
       "    <tr>\n",
       "      <th>0</th>\n",
       "      <td>1</td>\n",
       "      <td>00012</td>\n",
       "      <td>Mt Meadows Area</td>\n",
       "      <td>CA</td>\n",
       "      <td>-99</td>\n",
       "      <td>-99.0</td>\n",
       "      <td>30.92</td>\n",
       "      <td>195388.619180</td>\n",
       "      <td>8.621574e+08</td>\n",
       "      <td>POLYGON ((-235397.856 9938636.426, -235423.381...</td>\n",
       "    </tr>\n",
       "    <tr>\n",
       "      <th>1</th>\n",
       "      <td>2</td>\n",
       "      <td>00016</td>\n",
       "      <td>Sequoia National Forest</td>\n",
       "      <td>CA</td>\n",
       "      <td>-99</td>\n",
       "      <td>-99.0</td>\n",
       "      <td>39.33</td>\n",
       "      <td>169790.572348</td>\n",
       "      <td>1.096296e+09</td>\n",
       "      <td>POLYGON ((463415.330 8230735.164, 481200.757 8...</td>\n",
       "    </tr>\n",
       "    <tr>\n",
       "      <th>2</th>\n",
       "      <td>3</td>\n",
       "      <td>00017</td>\n",
       "      <td>Northeast Fresno County</td>\n",
       "      <td>CA</td>\n",
       "      <td>-99</td>\n",
       "      <td>-99.0</td>\n",
       "      <td>564.38</td>\n",
       "      <td>873109.208350</td>\n",
       "      <td>1.573415e+10</td>\n",
       "      <td>POLYGON ((354976.178 8923823.768, 355140.084 8...</td>\n",
       "    </tr>\n",
       "    <tr>\n",
       "      <th>3</th>\n",
       "      <td>4</td>\n",
       "      <td>00018</td>\n",
       "      <td>Los Padres Ntl Forest</td>\n",
       "      <td>CA</td>\n",
       "      <td>-99</td>\n",
       "      <td>-99.0</td>\n",
       "      <td>90.83</td>\n",
       "      <td>294311.333366</td>\n",
       "      <td>2.532222e+09</td>\n",
       "      <td>POLYGON ((355769.015 7866496.399, 355829.525 7...</td>\n",
       "    </tr>\n",
       "    <tr>\n",
       "      <th>4</th>\n",
       "      <td>5</td>\n",
       "      <td>00019</td>\n",
       "      <td>Lassen Ntl Forest</td>\n",
       "      <td>CA</td>\n",
       "      <td>-99</td>\n",
       "      <td>-99.0</td>\n",
       "      <td>412.59</td>\n",
       "      <td>533289.128828</td>\n",
       "      <td>1.150261e+10</td>\n",
       "      <td>POLYGON ((384.567 10127749.312, 421.543 101198...</td>\n",
       "    </tr>\n",
       "  </tbody>\n",
       "</table>\n",
       "</div>"
      ],
      "text/plain": [
       "   OBJECTID ZIP_CODE                  PO_NAME STATE  POPULATION  POP_SQMI  \\\n",
       "0         1    00012          Mt Meadows Area    CA         -99     -99.0   \n",
       "1         2    00016  Sequoia National Forest    CA         -99     -99.0   \n",
       "2         3    00017  Northeast Fresno County    CA         -99     -99.0   \n",
       "3         4    00018    Los Padres Ntl Forest    CA         -99     -99.0   \n",
       "4         5    00019        Lassen Ntl Forest    CA         -99     -99.0   \n",
       "\n",
       "     SQMI     SHAPE_Leng    SHAPE_Area  \\\n",
       "0   30.92  195388.619180  8.621574e+08   \n",
       "1   39.33  169790.572348  1.096296e+09   \n",
       "2  564.38  873109.208350  1.573415e+10   \n",
       "3   90.83  294311.333366  2.532222e+09   \n",
       "4  412.59  533289.128828  1.150261e+10   \n",
       "\n",
       "                                            geometry  \n",
       "0  POLYGON ((-235397.856 9938636.426, -235423.381...  \n",
       "1  POLYGON ((463415.330 8230735.164, 481200.757 8...  \n",
       "2  POLYGON ((354976.178 8923823.768, 355140.084 8...  \n",
       "3  POLYGON ((355769.015 7866496.399, 355829.525 7...  \n",
       "4  POLYGON ((384.567 10127749.312, 421.543 101198...  "
      ]
     },
     "execution_count": 4,
     "metadata": {},
     "output_type": "execute_result"
    }
   ],
   "source": [
    "df_2 = gpd.read_file(\"/Users/yashowardhanshinde/Desktop/ECE 143/ECE143_EV_Adoption_Analysis/data/california_zip_codes_geo/California_Zip_Codes.shp\")\n",
    "df_2.head()"
   ]
  },
  {
   "cell_type": "code",
   "execution_count": 14,
   "metadata": {},
   "outputs": [
    {
     "name": "stdout",
     "output_type": "stream",
     "text": [
      "2742\n",
      "2657\n"
     ]
    },
    {
     "data": {
      "text/plain": [
       "ZIP        int64\n",
       "City      object\n",
       "County    object\n",
       "dtype: object"
      ]
     },
     "execution_count": 14,
     "metadata": {},
     "output_type": "execute_result"
    }
   ],
   "source": [
    "df_2 = pd.read_csv('data/california-zip-codes_map.csv')\n",
    "print(len(df_2))\n",
    "df_2 = df_2[df_2['Zip Code'] != 'Zip Code']\n",
    "print(len(df_2))\n",
    "df_2['Zip Code'] = df_2['Zip Code'].astype(int)\n",
    "df_2.rename(columns={\"Zip Code\": 'ZIP'}, inplace=True)\n",
    "df_2.dtypes"
   ]
  },
  {
   "cell_type": "code",
   "execution_count": 16,
   "metadata": {},
   "outputs": [
    {
     "ename": "ValueError",
     "evalue": "columns overlap but no suffix specified: Index(['ZIP', 'City', 'County'], dtype='object')",
     "output_type": "error",
     "traceback": [
      "\u001b[0;31m---------------------------------------------------------------------------\u001b[0m",
      "\u001b[0;31mValueError\u001b[0m                                Traceback (most recent call last)",
      "\u001b[1;32m/Users/yashowardhanshinde/Desktop/ECE 143/ECE143_EV_Adoption_Analysis/explore.ipynb Cell 6\u001b[0m line \u001b[0;36m1\n\u001b[0;32m----> <a href='vscode-notebook-cell:/Users/yashowardhanshinde/Desktop/ECE%20143/ECE143_EV_Adoption_Analysis/explore.ipynb#X30sZmlsZQ%3D%3D?line=0'>1</a>\u001b[0m new_df \u001b[39m=\u001b[39m df_1\u001b[39m.\u001b[39;49mjoin(df_2, on\u001b[39m=\u001b[39;49m\u001b[39m'\u001b[39;49m\u001b[39mZIP\u001b[39;49m\u001b[39m'\u001b[39;49m, how\u001b[39m=\u001b[39;49m\u001b[39m'\u001b[39;49m\u001b[39mleft\u001b[39;49m\u001b[39m'\u001b[39;49m)\n\u001b[1;32m      <a href='vscode-notebook-cell:/Users/yashowardhanshinde/Desktop/ECE%20143/ECE143_EV_Adoption_Analysis/explore.ipynb#X30sZmlsZQ%3D%3D?line=1'>2</a>\u001b[0m new_df\u001b[39m.\u001b[39mhead()\n",
      "File \u001b[0;32m~/miniforge3/envs/ece143/lib/python3.9/site-packages/pandas/core/frame.py:10412\u001b[0m, in \u001b[0;36mDataFrame.join\u001b[0;34m(self, other, on, how, lsuffix, rsuffix, sort, validate)\u001b[0m\n\u001b[1;32m  10402\u001b[0m     \u001b[39mif\u001b[39;00m how \u001b[39m==\u001b[39m \u001b[39m\"\u001b[39m\u001b[39mcross\u001b[39m\u001b[39m\"\u001b[39m:\n\u001b[1;32m  10403\u001b[0m         \u001b[39mreturn\u001b[39;00m merge(\n\u001b[1;32m  10404\u001b[0m             \u001b[39mself\u001b[39m,\n\u001b[1;32m  10405\u001b[0m             other,\n\u001b[0;32m   (...)\u001b[0m\n\u001b[1;32m  10410\u001b[0m             validate\u001b[39m=\u001b[39mvalidate,\n\u001b[1;32m  10411\u001b[0m         )\n\u001b[0;32m> 10412\u001b[0m     \u001b[39mreturn\u001b[39;00m merge(\n\u001b[1;32m  10413\u001b[0m         \u001b[39mself\u001b[39;49m,\n\u001b[1;32m  10414\u001b[0m         other,\n\u001b[1;32m  10415\u001b[0m         left_on\u001b[39m=\u001b[39;49mon,\n\u001b[1;32m  10416\u001b[0m         how\u001b[39m=\u001b[39;49mhow,\n\u001b[1;32m  10417\u001b[0m         left_index\u001b[39m=\u001b[39;49mon \u001b[39mis\u001b[39;49;00m \u001b[39mNone\u001b[39;49;00m,\n\u001b[1;32m  10418\u001b[0m         right_index\u001b[39m=\u001b[39;49m\u001b[39mTrue\u001b[39;49;00m,\n\u001b[1;32m  10419\u001b[0m         suffixes\u001b[39m=\u001b[39;49m(lsuffix, rsuffix),\n\u001b[1;32m  10420\u001b[0m         sort\u001b[39m=\u001b[39;49msort,\n\u001b[1;32m  10421\u001b[0m         validate\u001b[39m=\u001b[39;49mvalidate,\n\u001b[1;32m  10422\u001b[0m     )\n\u001b[1;32m  10423\u001b[0m \u001b[39melse\u001b[39;00m:\n\u001b[1;32m  10424\u001b[0m     \u001b[39mif\u001b[39;00m on \u001b[39mis\u001b[39;00m \u001b[39mnot\u001b[39;00m \u001b[39mNone\u001b[39;00m:\n",
      "File \u001b[0;32m~/miniforge3/envs/ece143/lib/python3.9/site-packages/pandas/core/reshape/merge.py:183\u001b[0m, in \u001b[0;36mmerge\u001b[0;34m(left, right, how, on, left_on, right_on, left_index, right_index, sort, suffixes, copy, indicator, validate)\u001b[0m\n\u001b[1;32m    168\u001b[0m \u001b[39melse\u001b[39;00m:\n\u001b[1;32m    169\u001b[0m     op \u001b[39m=\u001b[39m _MergeOperation(\n\u001b[1;32m    170\u001b[0m         left_df,\n\u001b[1;32m    171\u001b[0m         right_df,\n\u001b[0;32m   (...)\u001b[0m\n\u001b[1;32m    181\u001b[0m         validate\u001b[39m=\u001b[39mvalidate,\n\u001b[1;32m    182\u001b[0m     )\n\u001b[0;32m--> 183\u001b[0m     \u001b[39mreturn\u001b[39;00m op\u001b[39m.\u001b[39;49mget_result(copy\u001b[39m=\u001b[39;49mcopy)\n",
      "File \u001b[0;32m~/miniforge3/envs/ece143/lib/python3.9/site-packages/pandas/core/reshape/merge.py:885\u001b[0m, in \u001b[0;36m_MergeOperation.get_result\u001b[0;34m(self, copy)\u001b[0m\n\u001b[1;32m    881\u001b[0m     \u001b[39mself\u001b[39m\u001b[39m.\u001b[39mleft, \u001b[39mself\u001b[39m\u001b[39m.\u001b[39mright \u001b[39m=\u001b[39m \u001b[39mself\u001b[39m\u001b[39m.\u001b[39m_indicator_pre_merge(\u001b[39mself\u001b[39m\u001b[39m.\u001b[39mleft, \u001b[39mself\u001b[39m\u001b[39m.\u001b[39mright)\n\u001b[1;32m    883\u001b[0m join_index, left_indexer, right_indexer \u001b[39m=\u001b[39m \u001b[39mself\u001b[39m\u001b[39m.\u001b[39m_get_join_info()\n\u001b[0;32m--> 885\u001b[0m result \u001b[39m=\u001b[39m \u001b[39mself\u001b[39;49m\u001b[39m.\u001b[39;49m_reindex_and_concat(\n\u001b[1;32m    886\u001b[0m     join_index, left_indexer, right_indexer, copy\u001b[39m=\u001b[39;49mcopy\n\u001b[1;32m    887\u001b[0m )\n\u001b[1;32m    888\u001b[0m result \u001b[39m=\u001b[39m result\u001b[39m.\u001b[39m__finalize__(\u001b[39mself\u001b[39m, method\u001b[39m=\u001b[39m\u001b[39mself\u001b[39m\u001b[39m.\u001b[39m_merge_type)\n\u001b[1;32m    890\u001b[0m \u001b[39mif\u001b[39;00m \u001b[39mself\u001b[39m\u001b[39m.\u001b[39mindicator:\n",
      "File \u001b[0;32m~/miniforge3/envs/ece143/lib/python3.9/site-packages/pandas/core/reshape/merge.py:837\u001b[0m, in \u001b[0;36m_MergeOperation._reindex_and_concat\u001b[0;34m(self, join_index, left_indexer, right_indexer, copy)\u001b[0m\n\u001b[1;32m    834\u001b[0m left \u001b[39m=\u001b[39m \u001b[39mself\u001b[39m\u001b[39m.\u001b[39mleft[:]\n\u001b[1;32m    835\u001b[0m right \u001b[39m=\u001b[39m \u001b[39mself\u001b[39m\u001b[39m.\u001b[39mright[:]\n\u001b[0;32m--> 837\u001b[0m llabels, rlabels \u001b[39m=\u001b[39m _items_overlap_with_suffix(\n\u001b[1;32m    838\u001b[0m     \u001b[39mself\u001b[39;49m\u001b[39m.\u001b[39;49mleft\u001b[39m.\u001b[39;49m_info_axis, \u001b[39mself\u001b[39;49m\u001b[39m.\u001b[39;49mright\u001b[39m.\u001b[39;49m_info_axis, \u001b[39mself\u001b[39;49m\u001b[39m.\u001b[39;49msuffixes\n\u001b[1;32m    839\u001b[0m )\n\u001b[1;32m    841\u001b[0m \u001b[39mif\u001b[39;00m left_indexer \u001b[39mis\u001b[39;00m \u001b[39mnot\u001b[39;00m \u001b[39mNone\u001b[39;00m \u001b[39mand\u001b[39;00m \u001b[39mnot\u001b[39;00m is_range_indexer(left_indexer, \u001b[39mlen\u001b[39m(left)):\n\u001b[1;32m    842\u001b[0m     \u001b[39m# Pinning the index here (and in the right code just below) is not\u001b[39;00m\n\u001b[1;32m    843\u001b[0m     \u001b[39m#  necessary, but makes the `.take` more performant if we have e.g.\u001b[39;00m\n\u001b[1;32m    844\u001b[0m     \u001b[39m#  a MultiIndex for left.index.\u001b[39;00m\n\u001b[1;32m    845\u001b[0m     lmgr \u001b[39m=\u001b[39m left\u001b[39m.\u001b[39m_mgr\u001b[39m.\u001b[39mreindex_indexer(\n\u001b[1;32m    846\u001b[0m         join_index,\n\u001b[1;32m    847\u001b[0m         left_indexer,\n\u001b[0;32m   (...)\u001b[0m\n\u001b[1;32m    852\u001b[0m         use_na_proxy\u001b[39m=\u001b[39m\u001b[39mTrue\u001b[39;00m,\n\u001b[1;32m    853\u001b[0m     )\n",
      "File \u001b[0;32m~/miniforge3/envs/ece143/lib/python3.9/site-packages/pandas/core/reshape/merge.py:2661\u001b[0m, in \u001b[0;36m_items_overlap_with_suffix\u001b[0;34m(left, right, suffixes)\u001b[0m\n\u001b[1;32m   2658\u001b[0m lsuffix, rsuffix \u001b[39m=\u001b[39m suffixes\n\u001b[1;32m   2660\u001b[0m \u001b[39mif\u001b[39;00m \u001b[39mnot\u001b[39;00m lsuffix \u001b[39mand\u001b[39;00m \u001b[39mnot\u001b[39;00m rsuffix:\n\u001b[0;32m-> 2661\u001b[0m     \u001b[39mraise\u001b[39;00m \u001b[39mValueError\u001b[39;00m(\u001b[39mf\u001b[39m\u001b[39m\"\u001b[39m\u001b[39mcolumns overlap but no suffix specified: \u001b[39m\u001b[39m{\u001b[39;00mto_rename\u001b[39m}\u001b[39;00m\u001b[39m\"\u001b[39m)\n\u001b[1;32m   2663\u001b[0m \u001b[39mdef\u001b[39;00m \u001b[39mrenamer\u001b[39m(x, suffix: \u001b[39mstr\u001b[39m \u001b[39m|\u001b[39m \u001b[39mNone\u001b[39;00m):\n\u001b[1;32m   2664\u001b[0m \u001b[39m    \u001b[39m\u001b[39m\"\"\"\u001b[39;00m\n\u001b[1;32m   2665\u001b[0m \u001b[39m    Rename the left and right indices.\u001b[39;00m\n\u001b[1;32m   2666\u001b[0m \n\u001b[0;32m   (...)\u001b[0m\n\u001b[1;32m   2677\u001b[0m \u001b[39m    x : renamed column name\u001b[39;00m\n\u001b[1;32m   2678\u001b[0m \u001b[39m    \"\"\"\u001b[39;00m\n",
      "\u001b[0;31mValueError\u001b[0m: columns overlap but no suffix specified: Index(['ZIP', 'City', 'County'], dtype='object')"
     ]
    }
   ],
   "source": [
    "new_df = df_1.join(df_2, on='ZIP', how='inner')\n",
    "new_df.head()"
   ]
  },
  {
   "cell_type": "code",
   "execution_count": 12,
   "metadata": {},
   "outputs": [],
   "source": [
    "from scripts.geo import plot_geospatial_data\n",
    "\n",
    "file_path = 'data/california_zip_codes_geo_updated/ev_final_analysis_geo.shp'\n",
    "zip_codes = df_1['ZIP'].to_list()\n",
    "ev_adoption = df_1['EV_perc'].to_list()\n",
    "data_to_plot = {str(k):v for k, v in zip(zip_codes, ev_adoption)}\n",
    "join_col_name = 'ZIP'\n",
    "value_name = 'EV Percentage'\n",
    "output_file_name = 'results/california_cars.html'\n",
    "plot_geospatial_data(file_path, data_to_plot, join_col_name, value_name, output_file_name)"
   ]
  },
  {
   "cell_type": "code",
   "execution_count": 5,
   "metadata": {},
   "outputs": [],
   "source": [
    "from scripts.geo import plot_geospatial_data\n",
    "\n",
    "file_path = 'data/california_zip_codes_geo_updated/ev_final_analysis_geo.shp'\n",
    "zip_codes = df_1['ZIP'].to_list()\n",
    "ev_adoption = df_1['Median_Household_Income'].to_list()\n",
    "data_to_plot = {str(k):v for k, v in zip(zip_codes, ev_adoption)}\n",
    "join_col_name = 'ZIP'\n",
    "value_name = 'Median Houshold Income'\n",
    "output_file_name = 'results/california_income.html'\n",
    "plot_geospatial_data(file_path, data_to_plot, join_col_name, value_name, output_file_name)"
   ]
  },
  {
   "cell_type": "code",
   "execution_count": null,
   "metadata": {},
   "outputs": [],
   "source": [
    "california_geojson = gpd.read_file(\"/Users/yashowardhanshinde/Desktop/ECE 143/ECE143_EV_Adoption_Analysis/data/california_zip_codes_geo/California_Zip_Codes.shp\")\n",
    "california_geojson.head()"
   ]
  },
  {
   "cell_type": "code",
   "execution_count": 16,
   "metadata": {},
   "outputs": [
    {
     "data": {
      "text/plain": [
       "[]"
      ]
     },
     "execution_count": 16,
     "metadata": {},
     "output_type": "execute_result"
    }
   ],
   "source": [
    "\n",
    "# new_df.to_csv('data/final_ev_analysis.csv')"
   ]
  },
  {
   "cell_type": "code",
   "execution_count": null,
   "metadata": {},
   "outputs": [],
   "source": [
    "df_2.columns"
   ]
  },
  {
   "cell_type": "code",
   "execution_count": null,
   "metadata": {},
   "outputs": [],
   "source": [
    "df_2.drop(columns=['OBJECTID', 'PO_NAME', 'STATE', 'POPULATION', 'POP_SQMI',\n",
    "       'SQMI', 'SHAPE_Leng', 'SHAPE_Area'], inplace=True)"
   ]
  },
  {
   "cell_type": "code",
   "execution_count": null,
   "metadata": {},
   "outputs": [],
   "source": [
    "df_2.head()"
   ]
  },
  {
   "cell_type": "code",
   "execution_count": null,
   "metadata": {},
   "outputs": [],
   "source": [
    "df_2.rename(columns={\"ZIP_CODE\": \"ZIP\"}, inplace=True)\n",
    "df_2['ZIP'] = df_2['ZIP'].astype(int)\n",
    "new_df = df_1.join(df_2.set_index('ZIP'), on='ZIP')\n",
    "new_df.head()"
   ]
  },
  {
   "cell_type": "code",
   "execution_count": null,
   "metadata": {},
   "outputs": [],
   "source": [
    "len(new_df)"
   ]
  },
  {
   "cell_type": "code",
   "execution_count": null,
   "metadata": {},
   "outputs": [],
   "source": [
    "new_df.to_csv(\"data/ev_final_analysis_geo.csv\")"
   ]
  },
  {
   "cell_type": "code",
   "execution_count": null,
   "metadata": {},
   "outputs": [],
   "source": [
    "new_df = gpd.GeoDataFrame(new_df)\n",
    "new_df.to_file(\"data/ev_final_analysis_geo.shp\")"
   ]
  },
  {
   "cell_type": "code",
   "execution_count": 26,
   "metadata": {},
   "outputs": [
    {
     "name": "stdout",
     "output_type": "stream",
     "text": [
      "<class 'geopandas.geodataframe.GeoDataFrame'>\n",
      "Index: 1398 entries, 0 to 1426\n",
      "Data columns (total 24 columns):\n",
      " #   Column      Non-Null Count  Dtype   \n",
      "---  ------      --------------  -----   \n",
      " 0   ZIP         1398 non-null   int64   \n",
      " 1   Diesel      1398 non-null   int64   \n",
      " 2   Electric    1398 non-null   int64   \n",
      " 3   Flex_Fuel   1398 non-null   int64   \n",
      " 4   Gasoline    1398 non-null   int64   \n",
      " 5   Gasoline_H  1398 non-null   int64   \n",
      " 6   Hydrogen    1398 non-null   int64   \n",
      " 7   Natural_Ga  1398 non-null   int64   \n",
      " 8   PHEV        1398 non-null   int64   \n",
      " 9   Propane     1398 non-null   int64   \n",
      " 10  Total_Cars  1398 non-null   int64   \n",
      " 11  Total_EV    1398 non-null   int64   \n",
      " 12  EV_perc     1398 non-null   float64 \n",
      " 13  Median_Hou  1398 non-null   float64 \n",
      " 14  Latino_per  1398 non-null   float64 \n",
      " 15  White_perc  1398 non-null   float64 \n",
      " 16  Asian_perc  1398 non-null   float64 \n",
      " 17  Black_perc  1398 non-null   float64 \n",
      " 18  BachOrHigh  1398 non-null   float64 \n",
      " 19  Total_Popu  1398 non-null   int64   \n",
      " 20  Zillow_Hom  1398 non-null   float64 \n",
      " 21  City        1398 non-null   object  \n",
      " 22  County      1398 non-null   object  \n",
      " 23  geometry    1398 non-null   geometry\n",
      "dtypes: float64(8), geometry(1), int64(13), object(2)\n",
      "memory usage: 273.0+ KB\n"
     ]
    }
   ],
   "source": [
    "import geopandas as gpd\n",
    "x = gpd.read_file('data/california_zip_codes_geo_updated/ev_final_analysis_geo.shp')\n",
    "x.dropna(inplace=True)\n",
    "x.info()"
   ]
  },
  {
   "cell_type": "code",
   "execution_count": 15,
   "metadata": {},
   "outputs": [],
   "source": [
    "d = []\n",
    "for idx, row in x.iterrows():\n",
    "    try:\n",
    "        y = row['geometry'].centroid\n",
    "    except:\n",
    "        d.append(idx)"
   ]
  },
  {
   "cell_type": "code",
   "execution_count": 18,
   "metadata": {},
   "outputs": [
    {
     "data": {
      "text/plain": [
       "25"
      ]
     },
     "execution_count": 18,
     "metadata": {},
     "output_type": "execute_result"
    }
   ],
   "source": [
    "len(d)"
   ]
  },
  {
   "cell_type": "code",
   "execution_count": 17,
   "metadata": {},
   "outputs": [
    {
     "data": {
      "text/plain": [
       "[]"
      ]
     },
     "execution_count": 17,
     "metadata": {},
     "output_type": "execute_result"
    }
   ],
   "source": [
    "df_2 = gpd.read_file('/Users/yashowardhanshinde/Desktop/ECE 143/ECE143_EV_Adoption_Analysis/data/california_zip_codes_geo/California_Zip_Codes.shp')\n",
    "m =  df_2['ZIP_CODE'].to_list()\n",
    "[x for x in m if x in d]"
   ]
  },
  {
   "cell_type": "code",
   "execution_count": null,
   "metadata": {},
   "outputs": [],
   "source": []
  }
 ],
 "metadata": {
  "kernelspec": {
   "display_name": "Python 3",
   "language": "python",
   "name": "python3"
  },
  "language_info": {
   "codemirror_mode": {
    "name": "ipython",
    "version": 3
   },
   "file_extension": ".py",
   "mimetype": "text/x-python",
   "name": "python",
   "nbconvert_exporter": "python",
   "pygments_lexer": "ipython3",
   "version": "3.9.18"
  }
 },
 "nbformat": 4,
 "nbformat_minor": 2
}
